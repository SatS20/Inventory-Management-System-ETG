{
  "nbformat": 4,
  "nbformat_minor": 0,
  "metadata": {
    "colab": {
      "name": "Purchase",
      "provenance": []
    },
    "kernelspec": {
      "name": "python3",
      "display_name": "Python 3"
    },
    "language_info": {
      "name": "python"
    }
  },
  "cells": [
    {
      "cell_type": "code",
      "metadata": {
        "id": "eK-TtfdlsAdv"
      },
      "source": [
        "import json\n",
        "fd=open(\"Record.json\",\"r\")\n",
        "r=fd.read()\n",
        "fd.close()\n",
        "record=json.loads(r)\n",
        "f=open(\"sales.json\",'w')\n"
      ],
      "execution_count": 31,
      "outputs": []
    },
    {
      "cell_type": "code",
      "metadata": {
        "colab": {
          "base_uri": "https://localhost:8080/"
        },
        "id": "gBfoCDATsF68",
        "outputId": "6ce9a160-2ac9-48a5-e589-dc6ee2c4d58c"
      },
      "source": [
        "ui_name=str(input(\"Enter the name: \"))\n",
        "f.write(\"NAME :\" + ui_name+ \"\\n\")\n",
        "sum=0\n",
        "while True:\n",
        "  ui_prod=str(input(\"Enter the product id: \"))    # Buy multiple items until the user press 'done'\n",
        "  if ui_prod == 'done':\n",
        "    break\n",
        "  else:\n",
        "    ui_quant=int(input(\"Enter the quantity :\"))\n",
        "    if (int(record[ui_prod][\"Quantity\"])<ui_quant):  #condition to check whether product is available or not\n",
        "      print(\"Product not available\")\n",
        "    else:\n",
        "      #Display the information\n",
        "      print(\"Product :\",record[ui_prod][\"name\"])\n",
        "      print(\"Price per unit: \",record[ui_prod][\"cost\"])\n",
        "      print(\"Amount:\",int(record[ui_prod][\"cost\"])*ui_quant)\n",
        "      Amount=int(record[ui_prod][\"cost\"])*ui_quant\n",
        "      record[ui_prod][\"Quantity\"]=int(record[ui_prod][\"Quantity\"])-ui_quant  #Subtract the products from the inventory\n",
        "      sum=sum+Amount\n",
        "      #Sales JSON\n",
        "      sale={ui_prod :{\"Name\":record[ui_prod][\"name\"] , \"Quantity\" : ui_quant ,\"Amount\":Amount}}    \n",
        "      js=json.dumps(sale)\n",
        "      f.write(js)\n",
        "      f.write(\"\\n\")\n",
        "print(\"***************************************\")\n",
        "print(\"Total Bill is :\" + str(sum))\n",
        "print(\"***************************************\")\n",
        "f.write(\"Total BILL :\"+str(sum)+ \"\\n\")"
      ],
      "execution_count": 32,
      "outputs": [
        {
          "output_type": "stream",
          "name": "stdout",
          "text": [
            "Enter the name: Ravi\n",
            "Enter the product id: 12314567\n",
            "Enter the quantity :10\n",
            "Product : Colgate\n",
            "Price per unit:  65\n",
            "Amount: 650\n",
            "Enter the product id: 16323913\n",
            "Enter the quantity :7\n",
            "Product : Parle-G\n",
            "Price per unit:  10\n",
            "Amount: 70\n",
            "Enter the product id: 11996733\n",
            "Enter the quantity :8\n",
            "Product : Maggi\n",
            "Price per unit:  12\n",
            "Amount: 96\n",
            "Enter the product id: 99387265\n",
            "Enter the quantity :12\n",
            "Product : Kit-Kat\n",
            "Price per unit:  30\n",
            "Amount: 360\n",
            "Enter the product id: done\n",
            "***************************************\n",
            "Total Bill is :1176\n",
            "***************************************\n"
          ]
        },
        {
          "output_type": "execute_result",
          "data": {
            "text/plain": [
              "17"
            ]
          },
          "metadata": {},
          "execution_count": 32
        }
      ]
    },
    {
      "cell_type": "code",
      "metadata": {
        "id": "JSXXaWAfs6e5",
        "colab": {
          "base_uri": "https://localhost:8080/"
        },
        "outputId": "ba50b5a7-6f7e-4afd-dbc9-a6d692a66258"
      },
      "source": [
        "ui_name=str(input(\"Enter the name: \"))\n",
        "f.write(\"NAME :\" + ui_name +\"\\n\")\n",
        "sum=0\n",
        "while True:\n",
        "  ui_prod=str(input(\"Enter the product id: \"))    # Buy multiple items until the user press 'done'\n",
        "  if ui_prod == 'done':\n",
        "    break\n",
        "  else:\n",
        "    ui_quant=int(input(\"Enter the quantity :\"))\n",
        "    if (int(record[ui_prod][\"Quantity\"])<ui_quant):  #condition to check whether product is available or not\n",
        "      print(\"Product not available\")\n",
        "    else:\n",
        "      #Display the information\n",
        "      print(\"Product :\",record[ui_prod][\"name\"])\n",
        "      print(\"Price per unit: \",record[ui_prod][\"cost\"])\n",
        "      print(\"Amount:\",int(record[ui_prod][\"cost\"])*ui_quant)\n",
        "      Amount=int(record[ui_prod][\"cost\"])*ui_quant\n",
        "      record[ui_prod][\"Quantity\"]=int(record[ui_prod][\"Quantity\"])-ui_quant  #Subtract the products from the inventory\n",
        "      sum=sum+Amount\n",
        "      #Sales JSON\n",
        "      sale={ui_prod :{\"Name\":record[ui_prod][\"name\"] , \"Quantity\" : ui_quant ,\"Amount\":Amount}}    \n",
        "      js=json.dumps(sale)\n",
        "      f.write(js)\n",
        "      f.write(\"\\n\")\n",
        "print(\"***************************************\")\n",
        "print(\"Total Bill is :\" + str(sum))\n",
        "print(\"***************************************\")\n",
        "f.write(\"Total BILL :\"+str(sum) + \"\\n\")\n",
        "f.close()"
      ],
      "execution_count": 33,
      "outputs": [
        {
          "output_type": "stream",
          "name": "stdout",
          "text": [
            "Enter the name: Rashmi\n",
            "Enter the product id: 89765467\n",
            "Enter the quantity :12\n",
            "Product : Fanta\n",
            "Price per unit:  25\n",
            "Amount: 300\n",
            "Enter the product id: 13689645\n",
            "Enter the quantity :3\n",
            "Product : Saffola\n",
            "Price per unit:  199\n",
            "Amount: 597\n",
            "Enter the product id: 11996733\n",
            "Enter the quantity :5\n",
            "Product : Maggi\n",
            "Price per unit:  12\n",
            "Amount: 60\n",
            "Enter the product id: 20023840\n",
            "Enter the quantity :4\n",
            "Product : Pepsi\n",
            "Price per unit:  30\n",
            "Amount: 120\n",
            "Enter the product id: 97467231\n",
            "Enter the quantity :8\n",
            "Product : Surf Excel\n",
            "Price per unit:  50\n",
            "Amount: 400\n",
            "Enter the product id: done\n",
            "***************************************\n",
            "Total Bill is :1477\n",
            "***************************************\n"
          ]
        }
      ]
    },
    {
      "cell_type": "code",
      "metadata": {
        "id": "IUt3WOfAs6iU"
      },
      "source": [
        ""
      ],
      "execution_count": null,
      "outputs": []
    },
    {
      "cell_type": "code",
      "metadata": {
        "id": "iqiDLInmoVmk"
      },
      "source": [
        ""
      ],
      "execution_count": null,
      "outputs": []
    }
  ]
}
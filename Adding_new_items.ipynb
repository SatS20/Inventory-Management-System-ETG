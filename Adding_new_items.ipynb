{
  "nbformat": 4,
  "nbformat_minor": 0,
  "metadata": {
    "colab": {
      "name": "Adding new items",
      "provenance": []
    },
    "kernelspec": {
      "name": "python3",
      "display_name": "Python 3"
    },
    "language_info": {
      "name": "python"
    }
  },
  "cells": [
    {
      "cell_type": "markdown",
      "metadata": {
        "id": "jdfnxJUcYo55"
      },
      "source": [
        "Reading data from JSON\n"
      ]
    },
    {
      "cell_type": "code",
      "metadata": {
        "id": "WNdMC2NLYuJ_"
      },
      "source": [
        "fd=open(\"record.json\",'r')\n",
        "r=fd.read()\n",
        "fd.close()"
      ],
      "execution_count": 2,
      "outputs": []
    },
    {
      "cell_type": "code",
      "metadata": {
        "id": "DQ7Ek8LYZCgD"
      },
      "source": [
        "import json\n",
        "record=json.loads(r)"
      ],
      "execution_count": 3,
      "outputs": []
    },
    {
      "cell_type": "code",
      "metadata": {
        "id": "O8vh81KNZPlr"
      },
      "source": [
        "data=json.loads(record)"
      ],
      "execution_count": 5,
      "outputs": []
    },
    {
      "cell_type": "code",
      "metadata": {
        "colab": {
          "base_uri": "https://localhost:8080/"
        },
        "id": "oIjusYfJZdp9",
        "outputId": "6c2b930d-178e-4165-86ef-9035d40d4e26"
      },
      "source": [
        "data"
      ],
      "execution_count": 9,
      "outputs": [
        {
          "output_type": "execute_result",
          "data": {
            "text/plain": [
              "{'11200989': {'Quantity': '200',\n",
              "  'category': 'Biscuit',\n",
              "  'cost': '20',\n",
              "  'exp': 'JAN 2022',\n",
              "  'name': 'Britannia'},\n",
              " '11996733': {'Quantity': '250',\n",
              "  'category': 'Food',\n",
              "  'cost': '12',\n",
              "  'exp': 'JUL 2022',\n",
              "  'name': 'Maggi'},\n",
              " '12091478': {'Quantity': '150',\n",
              "  'category': 'Snacks',\n",
              "  'cost': '10',\n",
              "  'exp': 'DEC 2021',\n",
              "  'name': 'Kurkure'},\n",
              " '12314567': {'Quantity': '150',\n",
              "  'cateory': 'Toothpaste',\n",
              "  'cost': '65',\n",
              "  'exp': 'JAN 2023',\n",
              "  'name': 'Colgate'},\n",
              " '13553548': {'Quantity': '190',\n",
              "  'category': 'Chocolate',\n",
              "  'cost': '30',\n",
              "  'exp': 'JAN 2022',\n",
              "  'name': 'Snickers'},\n",
              " '13689645': {'Quantity': '250',\n",
              "  'category': 'Cooking Oil',\n",
              "  'cost': '199',\n",
              "  'exp': 'OCT 2022',\n",
              "  'name': 'Saffola'},\n",
              " '13988242': {'Quantity': '200',\n",
              "  'category': 'Snacks',\n",
              "  'cost': '10',\n",
              "  'exp': 'DEC 2021',\n",
              "  'name': \"Lay's\"},\n",
              " '16323913': {'Quantity': '150',\n",
              "  'category': 'Biscuit',\n",
              "  'cost': '10',\n",
              "  'exp': 'FEB 2022',\n",
              "  'name': 'Parle-G'},\n",
              " '18093638': {'Quantity': '110',\n",
              "  'category': 'Biscuit',\n",
              "  'cost': '20',\n",
              "  'exp': 'MAR 2022',\n",
              "  'name': 'Bourbon'},\n",
              " '18536358': {'Quantity': '200',\n",
              "  'category': 'Soft Drinks',\n",
              "  'cost': '50',\n",
              "  'exp': 'DEC 2021',\n",
              "  'name': 'Sprite'},\n",
              " '19329932': {'Quantity': '210',\n",
              "  'category': 'Cleansers',\n",
              "  'cost': '25',\n",
              "  'exp': 'JUL 2022',\n",
              "  'name': 'Cinthol'},\n",
              " '20023840': {'Quantity': '150',\n",
              "  'category': 'Soft Drinks',\n",
              "  'cost': '30',\n",
              "  'exp': 'APR 2022',\n",
              "  'name': 'Pepsi'},\n",
              " '25823576': {'Quantity': '100',\n",
              "  'category': 'Detergent',\n",
              "  'cost': '60',\n",
              "  'exp': 'OCT 2022',\n",
              "  'name': 'Tide'},\n",
              " '28576854': {'Quantity': '170',\n",
              "  'category': 'Soft Drinks',\n",
              "  'cost': '25',\n",
              "  'exp': 'DEC 2022',\n",
              "  'name': 'Coca-Cola'},\n",
              " '33745614': {'Quantity': '250',\n",
              "  'category': 'Biscuit',\n",
              "  'cost': '20',\n",
              "  'exp': 'FEB 2022',\n",
              "  'name': 'Monaco'},\n",
              " '33988951': {'Quantity': '290',\n",
              "  'category': 'Ice Cream',\n",
              "  'cost': '100',\n",
              "  'exp': 'OCT 2021',\n",
              "  'name': 'Hangyo'},\n",
              " '34266837': {'Quantity': '200',\n",
              "  'category': 'Moisturizer',\n",
              "  'cost': '299',\n",
              "  'exp': 'DEC 2023',\n",
              "  'name': 'Nivea'},\n",
              " '47845671': {'Quantity': '230',\n",
              "  'category': 'Antiseptic',\n",
              "  'cost': '175',\n",
              "  'exp': 'FEB 2022',\n",
              "  'name': 'Dettol'},\n",
              " '63986447': {'Quantity': '270',\n",
              "  'category': 'Soft Drinks',\n",
              "  'cost': '35',\n",
              "  'exp': 'JUN 2022',\n",
              "  'name': '7 UP'},\n",
              " '68927657': {'Quantity': '80',\n",
              "  'category': 'Cleansers',\n",
              "  'cost': '10',\n",
              "  'exp': 'JUL 2022',\n",
              "  'name': 'Medimix'},\n",
              " '76576937': {'Quantity': '190',\n",
              "  'category': 'Cleansers',\n",
              "  'cost': '180',\n",
              "  'exp': 'SEP 2023',\n",
              "  'name': 'Pears'},\n",
              " '86678868': {'Quantity': '250',\n",
              "  'category': 'Cooking Oil',\n",
              "  'cost': '180',\n",
              "  'exp': 'SEP 2022',\n",
              "  'name': 'Fortune'},\n",
              " '87936649': {'Quantity': '250',\n",
              "  'category': 'Soft Drinks',\n",
              "  'cost': '30',\n",
              "  'exp': 'JUL 2022',\n",
              "  'name': 'Thums Up'},\n",
              " '89747794': {'Quantity': '150',\n",
              "  'category': 'Snacks',\n",
              "  'cost': '10',\n",
              "  'exp': 'DEC 2021',\n",
              "  'name': 'Bingo'},\n",
              " '89765467': {'Quantity': '220',\n",
              "  'category': 'Soft Drinks',\n",
              "  'cost': '25',\n",
              "  'exp': 'FEB 2022',\n",
              "  'name': 'Fanta'},\n",
              " '97467231': {'Quantity': '195',\n",
              "  'category': 'Detergent',\n",
              "  'cost': '50',\n",
              "  'exp': 'DEC 2021',\n",
              "  'name': 'Surf Excel'},\n",
              " '97801768': {'Quantity': '120',\n",
              "  'category': 'Perfume',\n",
              "  'cost': '299',\n",
              "  'exp': 'JAN 2023',\n",
              "  'name': 'FOGG'},\n",
              " '98346799': {'Quantity': '170',\n",
              "  'category': 'Soft Drinks',\n",
              "  'cost': '20',\n",
              "  'exp': 'JUL 2022',\n",
              "  'name': 'Limca'},\n",
              " '98798411': {'Quantity': '100',\n",
              "  'category': 'Biscuit',\n",
              "  'cost': '20',\n",
              "  'exp': 'Jan 2022',\n",
              "  'name': 'Oreo'},\n",
              " '99387265': {'Quantity': '180',\n",
              "  'category': 'Chocolate',\n",
              "  'cost': '30',\n",
              "  'exp': 'FEB 2022',\n",
              "  'name': 'Kit-Kat'}}"
            ]
          },
          "metadata": {},
          "execution_count": 9
        }
      ]
    },
    {
      "cell_type": "code",
      "metadata": {
        "colab": {
          "base_uri": "https://localhost:8080/"
        },
        "id": "qtSovgu-aCEp",
        "outputId": "71b14cf3-c39f-4400-ad7e-2dae53c7137f"
      },
      "source": [
        "#adding new item\n",
        "prod_id=str(input(\"Enter product id :\"))\n",
        "name=str(input(\"Enter the name of the product:\"))\n",
        "pr=int(input(\"Enter the price:\"))\n",
        "cate=str(input(\"Enter the product category:\"))\n",
        "qn=int(input(\"Enter the quantity:\"))\n",
        "exp=str(input(\"Enter the exp date :\"))\n",
        "data[prod_id]={\"name\":name, \"category\":cate ,\"exp\": exp,\"cost\":pr,\"Quantity\":qn}"
      ],
      "execution_count": 13,
      "outputs": [
        {
          "name": "stdout",
          "output_type": "stream",
          "text": [
            "Enter product id :12350987\n",
            "Enter the name of the product:Good Day\n",
            "Enter the price:10\n",
            "Enter the product category:Biscuit\n",
            "Enter the quantity:250\n",
            "Enter the exp date :JAN 2022\n"
          ]
        }
      ]
    },
    {
      "cell_type": "code",
      "metadata": {
        "colab": {
          "base_uri": "https://localhost:8080/"
        },
        "id": "Jbp0NuJLdWdf",
        "outputId": "ab0b9c16-d106-4f98-c12a-8095345d9fba"
      },
      "source": [
        "#there are 190 \"Snickers\" chocolates\n",
        "data[\"13553548\"]"
      ],
      "execution_count": 26,
      "outputs": [
        {
          "output_type": "execute_result",
          "data": {
            "text/plain": [
              "{'Quantity': '190',\n",
              " 'category': 'Chocolate',\n",
              " 'cost': '30',\n",
              " 'exp': 'JAN 2022',\n",
              " 'name': 'Snickers'}"
            ]
          },
          "metadata": {},
          "execution_count": 26
        }
      ]
    },
    {
      "cell_type": "code",
      "metadata": {
        "id": "kVmRHbG-gcU_"
      },
      "source": [
        "#adding 100 more chocolates...\n",
        "data[\"13553548\"][\"Quantity\"]=str(int(data[\"13553548\"][\"Quantity\"])+100)"
      ],
      "execution_count": 28,
      "outputs": []
    },
    {
      "cell_type": "code",
      "metadata": {
        "colab": {
          "base_uri": "https://localhost:8080/"
        },
        "id": "fp7dkXTogcYh",
        "outputId": "2c12dfa4-1a5d-4dc8-8c11-babdf6d086d9"
      },
      "source": [
        "data[\"13553548\"]"
      ],
      "execution_count": 29,
      "outputs": [
        {
          "output_type": "execute_result",
          "data": {
            "text/plain": [
              "{'Quantity': '290',\n",
              " 'category': 'Chocolate',\n",
              " 'cost': '30',\n",
              " 'exp': 'JAN 2022',\n",
              " 'name': 'Snickers'}"
            ]
          },
          "metadata": {},
          "execution_count": 29
        }
      ]
    },
    {
      "cell_type": "code",
      "metadata": {
        "colab": {
          "base_uri": "https://localhost:8080/"
        },
        "id": "4eu1mPMAdWla",
        "outputId": "ecebe54f-755c-4cf8-c07a-28c66952eb82"
      },
      "source": [
        "#Items in Inventory\n",
        "len(data)\n"
      ],
      "execution_count": 30,
      "outputs": [
        {
          "output_type": "execute_result",
          "data": {
            "text/plain": [
              "31"
            ]
          },
          "metadata": {},
          "execution_count": 30
        }
      ]
    },
    {
      "cell_type": "code",
      "metadata": {
        "id": "9pbkAZQPkBj4"
      },
      "source": [
        "js=json.dumps(data)\n",
        "fd=open(\"Record.json\",\"w\")\n",
        "fd.write(js)\n",
        "fd.close()"
      ],
      "execution_count": 33,
      "outputs": []
    },
    {
      "cell_type": "code",
      "metadata": {
        "id": "fKIo1RBknBPN"
      },
      "source": [
        ""
      ],
      "execution_count": null,
      "outputs": []
    },
    {
      "cell_type": "code",
      "metadata": {
        "id": "rGRYAGRpnBi6"
      },
      "source": [
        ""
      ],
      "execution_count": null,
      "outputs": []
    },
    {
      "cell_type": "markdown",
      "metadata": {
        "id": "My2XI-E3YnsQ"
      },
      "source": [
        ""
      ]
    }
  ]
}